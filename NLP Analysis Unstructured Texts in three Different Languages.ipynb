{
 "cells": [
  {
   "cell_type": "code",
   "execution_count": 1,
   "metadata": {},
   "outputs": [],
   "source": [
    "from textblob import TextBlob\n",
    "import pandas as pd\n",
    "from sklearn.naive_bayes import MultinomialNB\n",
    "import seaborn as sns\n",
    "import matplotlib.pyplot as plt"
   ]
  },
  {
   "cell_type": "code",
   "execution_count": 2,
   "metadata": {},
   "outputs": [],
   "source": [
    "#two seprate languages covering the same news with same messaging\n",
    "#English was taken from:https://www.bbc.com/news/live/world-africa-47639452?ns_mchannel=social&ns_source=twitter&ns_campaign=bbc_live&ns_linkname=5fbcd533fe66a902d10044d3%26Trump%20imposes%20new%20rule%20for%20some%20African%20travellers%262020-11-24T09%3A47%3A36.290Z&ns_fee=0&pinned_post_locator=urn:asset:a78f89ad-90db-4cd0-8e91-8ee01e8fb375&pinned_post_asset_id=5fbcd533fe66a902d10044d3&pinned_post_type=share\n",
    "#Pidigin was taken from:https://www.bbc.com/pidgin/tori-55059156\n",
    "english = '''Outgoing President Donald Trump, who lost a re-election bid earlier this month, made restricting immigration a central part of his four-year term in office.\n",
    "President-elect Joe Biden, a Democrat, has pledged to reverse many of the Republican president’s immigration policies, but untangling hundreds of changes could take months or years.\n",
    "The visa bond rule targets countries whose nationals had an “overstay rate” of 10% or higher in 2019 and will now be required to pay a refundable bond of $5,000, $10,000 or $15,000.\n",
    "\n",
    "'''\n",
    "pidgin = '''Trump, wey lose im re-election bid dis month bin make immigration kasala as a central part of im four-year term for office.\n",
    "\n",
    "Di President-Elect Joe Biden don promise to change many of di Republican president immigration policies, but e fit take a long time to do am.\n",
    "\n",
    "Di visa bond rule go target kontries wey dia nationals get \"overstay rate\" of 10% or higher in 2019 to pay a refundable moni of $5,000, $10,000 or $15,000.\n",
    "\n",
    "'''\n",
    "swahili ='''Rais anayemaliza muda wake Donald Trump, ambaye alipoteza zabuni ya uchaguzi wa mapema mapema mwezi huu, alifanya kuzuia uhamiaji kuwa sehemu kuu ya kipindi chake cha miaka minne ofisini.\n",
    "Rais mteule Joe Biden, Mwanademokrasia, ameahidi kubadili sera nyingi za uhamiaji za rais wa Republican, lakini kufungia mamia ya mabadiliko kunaweza kuchukua miezi au miaka.\n",
    "Sheria ya dhamana ya visa inalenga nchi ambazo raia wao walikuwa na \"kiwango cha juu\" cha 10% au zaidi mnamo 2019 na sasa watahitajika kulipa dhamana inayoweza kurejeshwa ya $ 5,000, $ 10,000 au $ 15,000\n",
    "'''"
   ]
  },
  {
   "cell_type": "code",
   "execution_count": 3,
   "metadata": {},
   "outputs": [],
   "source": [
    "blob =TextBlob(english)\n",
    "blob2=TextBlob(pidgin)\n",
    "blob3=TextBlob(swahili)\n"
   ]
  },
  {
   "cell_type": "code",
   "execution_count": 4,
   "metadata": {},
   "outputs": [
    {
     "name": "stdout",
     "output_type": "stream",
     "text": [
      "en\n",
      "en\n",
      "sw\n"
     ]
    }
   ],
   "source": [
    "print(blob.detect_language())\n",
    "print(blob2.detect_language())\n",
    "print(blob3.detect_language())"
   ]
  },
  {
   "cell_type": "code",
   "execution_count": 5,
   "metadata": {},
   "outputs": [
    {
     "data": {
      "text/plain": [
       "Sentiment(polarity=0.1875, subjectivity=0.4375)"
      ]
     },
     "execution_count": 5,
     "metadata": {},
     "output_type": "execute_result"
    }
   ],
   "source": [
    "blob.sentiment"
   ]
  },
  {
   "cell_type": "code",
   "execution_count": 6,
   "metadata": {},
   "outputs": [
    {
     "data": {
      "text/plain": [
       "Sentiment(polarity=0.22000000000000003, subjectivity=0.41)"
      ]
     },
     "execution_count": 6,
     "metadata": {},
     "output_type": "execute_result"
    }
   ],
   "source": [
    "blob2.sentiment"
   ]
  },
  {
   "cell_type": "code",
   "execution_count": 7,
   "metadata": {},
   "outputs": [
    {
     "data": {
      "text/plain": [
       "Sentiment(polarity=0.0, subjectivity=0.0)"
      ]
     },
     "execution_count": 7,
     "metadata": {},
     "output_type": "execute_result"
    }
   ],
   "source": [
    "blob3.sentiment"
   ]
  },
  {
   "cell_type": "code",
   "execution_count": 8,
   "metadata": {},
   "outputs": [],
   "source": [
    "x1 = blob.sentiment.polarity\n",
    "x2 =blob.sentiment.subjectivity\n",
    "y1 =blob2.sentiment.polarity\n",
    "y2 =blob2.sentiment.subjectivity \n",
    "z1 =blob3.sentiment.polarity\n",
    "z2 =blob3.sentiment.subjectivity"
   ]
  },
  {
   "cell_type": "code",
   "execution_count": 9,
   "metadata": {},
   "outputs": [
    {
     "data": {
      "text/html": [
       "<div>\n",
       "<style scoped>\n",
       "    .dataframe tbody tr th:only-of-type {\n",
       "        vertical-align: middle;\n",
       "    }\n",
       "\n",
       "    .dataframe tbody tr th {\n",
       "        vertical-align: top;\n",
       "    }\n",
       "\n",
       "    .dataframe thead th {\n",
       "        text-align: right;\n",
       "    }\n",
       "</style>\n",
       "<table border=\"1\" class=\"dataframe\">\n",
       "  <thead>\n",
       "    <tr style=\"text-align: right;\">\n",
       "      <th></th>\n",
       "      <th>Polarity</th>\n",
       "      <th>Subjectivity</th>\n",
       "    </tr>\n",
       "  </thead>\n",
       "  <tbody>\n",
       "    <tr>\n",
       "      <th>English</th>\n",
       "      <td>0.1875</td>\n",
       "      <td>0.4375</td>\n",
       "    </tr>\n",
       "    <tr>\n",
       "      <th>Nigeria Pidgin</th>\n",
       "      <td>0.2200</td>\n",
       "      <td>0.4100</td>\n",
       "    </tr>\n",
       "    <tr>\n",
       "      <th>Swahili</th>\n",
       "      <td>0.0000</td>\n",
       "      <td>0.0000</td>\n",
       "    </tr>\n",
       "  </tbody>\n",
       "</table>\n",
       "</div>"
      ],
      "text/plain": [
       "                Polarity  Subjectivity\n",
       "English           0.1875        0.4375\n",
       "Nigeria Pidgin    0.2200        0.4100\n",
       "Swahili           0.0000        0.0000"
      ]
     },
     "execution_count": 9,
     "metadata": {},
     "output_type": "execute_result"
    }
   ],
   "source": [
    "df = pd.DataFrame()\n",
    "df['Polarity'] =[x1,y1,z1]\n",
    "df['Subjectivity'] =[x2,y2,z2]\n",
    "df.index =['English','Nigeria Pidgin','Swahili']\n",
    "df\n"
   ]
  },
  {
   "cell_type": "code",
   "execution_count": 11,
   "metadata": {},
   "outputs": [
    {
     "data": {
      "image/png": "[encoded data removed]",
      "text/plain": [
       "<Figure size 432x288 with 1 Axes>"
      ]
     },
     "metadata": {
      "needs_background": "light"
     },
     "output_type": "display_data"
    }
   ],
   "source": [
    "ax = df.plot.line()\n",
    "fig = ax.get_figure()\n",
    "fig.savefig('nlpbias.png')"
   ]
  },
  {
   "cell_type": "code",
   "execution_count": null,
   "metadata": {},
   "outputs": [],
   "source": []
  }
 ],
 "metadata": {
  "kernelspec": {
   "display_name": "Python 3",
   "language": "python",
   "name": "python3"
  },
  "language_info": {
   "codemirror_mode": {
    "name": "ipython",
    "version": 3
   },
   "file_extension": ".py",
   "mimetype": "text/x-python",
   "name": "python",
   "nbconvert_exporter": "python",
   "pygments_lexer": "ipython3",
   "version": "3.7.9"
  }
 },
 "nbformat": 4,
 "nbformat_minor": 4
}
